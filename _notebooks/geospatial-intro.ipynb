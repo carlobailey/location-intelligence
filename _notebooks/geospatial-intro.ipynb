{
 "cells": [
  {
   "cell_type": "markdown",
   "metadata": {},
   "source": [
    "# Geospatial Data\n",
    "\n",
    "This notebook demonstrates common workflows to analyze geospatial data such as loading geographic data in Python, geocoding, and doing simple spatial statistics. There are a ton of similarities between GeoPandas and Pandas, in fact GeoPandas can be thought of as an extension of Pandas and shares many of the same functionality. The two driving forces behind all GeoPandas operations are **GeoDataFrames** and **GeoSeries** – extensions of DataFrames and Series in Pandas. The difference is that **GeoDataFrames / GeoSeries** provide geo specific functionality enabling things such as the plotting of geometry, spatial joins, and mapping projections."
   ]
  },
  {
   "cell_type": "code",
   "execution_count": 40,
   "metadata": {},
   "outputs": [],
   "source": [
    "import geopandas as gpd\n",
    "import requests\n",
    "from sodapy import Socrata\n",
    "import os\n",
    "import pandas as pd\n",
    "from shapely import wkt\n",
    "from shapely.geometry import shape \n",
    "from shapely.ops import nearest_points"
   ]
  },
  {
   "cell_type": "markdown",
   "metadata": {},
   "source": [
    "# Loading spatial data\n",
    "\n",
    "For this example I will load a GeoJSON file of US zip codes from the class Google drive."
   ]
  },
  {
   "cell_type": "code",
   "execution_count": 2,
   "metadata": {},
   "outputs": [],
   "source": [
    "path = '/Users/carlo/Downloads/geo_data 2/us_zipcodes.geojson'\n",
    "gdf = gpd.read_file(path)"
   ]
  },
  {
   "cell_type": "code",
   "execution_count": 3,
   "metadata": {},
   "outputs": [
    {
     "name": "stdout",
     "output_type": "stream",
     "text": [
      "(33144, 11)\n"
     ]
    },
    {
     "data": {
      "text/html": [
       "<div>\n",
       "<style scoped>\n",
       "    .dataframe tbody tr th:only-of-type {\n",
       "        vertical-align: middle;\n",
       "    }\n",
       "\n",
       "    .dataframe tbody tr th {\n",
       "        vertical-align: top;\n",
       "    }\n",
       "\n",
       "    .dataframe thead th {\n",
       "        text-align: right;\n",
       "    }\n",
       "</style>\n",
       "<table border=\"1\" class=\"dataframe\">\n",
       "  <thead>\n",
       "    <tr style=\"text-align: right;\">\n",
       "      <th></th>\n",
       "      <th>region_id</th>\n",
       "      <th>ZCTA5CE10</th>\n",
       "      <th>GEOID10</th>\n",
       "      <th>CLASSFP10</th>\n",
       "      <th>MTFCC10</th>\n",
       "      <th>FUNCSTAT10</th>\n",
       "      <th>ALAND</th>\n",
       "      <th>AWATER</th>\n",
       "      <th>INTPTLAT</th>\n",
       "      <th>INTPTLON</th>\n",
       "      <th>geometry</th>\n",
       "    </tr>\n",
       "  </thead>\n",
       "  <tbody>\n",
       "    <tr>\n",
       "      <th>0</th>\n",
       "      <td>53922</td>\n",
       "      <td>53922</td>\n",
       "      <td>53922</td>\n",
       "      <td>B5</td>\n",
       "      <td>G6350</td>\n",
       "      <td>S</td>\n",
       "      <td>118603010</td>\n",
       "      <td>1919478</td>\n",
       "      <td>43.520930</td>\n",
       "      <td>-88.715147</td>\n",
       "      <td>POLYGON ((-88.79170 43.53140, -88.79127 43.531...</td>\n",
       "    </tr>\n",
       "    <tr>\n",
       "      <th>1</th>\n",
       "      <td>15027</td>\n",
       "      <td>15027</td>\n",
       "      <td>15027</td>\n",
       "      <td>B5</td>\n",
       "      <td>G6350</td>\n",
       "      <td>S</td>\n",
       "      <td>3728900</td>\n",
       "      <td>473269</td>\n",
       "      <td>40.666338</td>\n",
       "      <td>-80.240179</td>\n",
       "      <td>POLYGON ((-80.25520 40.67407, -80.25538 40.673...</td>\n",
       "    </tr>\n",
       "    <tr>\n",
       "      <th>2</th>\n",
       "      <td>95605</td>\n",
       "      <td>95605</td>\n",
       "      <td>95605</td>\n",
       "      <td>B5</td>\n",
       "      <td>G6350</td>\n",
       "      <td>S</td>\n",
       "      <td>10099869</td>\n",
       "      <td>434268</td>\n",
       "      <td>38.593521</td>\n",
       "      <td>-121.539867</td>\n",
       "      <td>POLYGON ((-121.58275 38.57903, -121.58277 38.5...</td>\n",
       "    </tr>\n",
       "    <tr>\n",
       "      <th>3</th>\n",
       "      <td>04468</td>\n",
       "      <td>04468</td>\n",
       "      <td>4468</td>\n",
       "      <td>B5</td>\n",
       "      <td>G6350</td>\n",
       "      <td>S</td>\n",
       "      <td>308900427</td>\n",
       "      <td>7915129</td>\n",
       "      <td>45.024673</td>\n",
       "      <td>-68.734534</td>\n",
       "      <td>POLYGON ((-68.84231 45.09506, -68.84195 45.093...</td>\n",
       "    </tr>\n",
       "    <tr>\n",
       "      <th>4</th>\n",
       "      <td>37160</td>\n",
       "      <td>37160</td>\n",
       "      <td>37160</td>\n",
       "      <td>B5</td>\n",
       "      <td>G6350</td>\n",
       "      <td>S</td>\n",
       "      <td>594479863</td>\n",
       "      <td>1466926</td>\n",
       "      <td>35.455746</td>\n",
       "      <td>-86.484790</td>\n",
       "      <td>MULTIPOLYGON (((-86.46235 35.62683, -86.46236 ...</td>\n",
       "    </tr>\n",
       "  </tbody>\n",
       "</table>\n",
       "</div>"
      ],
      "text/plain": [
       "  region_id ZCTA5CE10  GEOID10 CLASSFP10 MTFCC10 FUNCSTAT10      ALAND  \\\n",
       "0     53922     53922    53922        B5   G6350          S  118603010   \n",
       "1     15027     15027    15027        B5   G6350          S    3728900   \n",
       "2     95605     95605    95605        B5   G6350          S   10099869   \n",
       "3     04468     04468     4468        B5   G6350          S  308900427   \n",
       "4     37160     37160    37160        B5   G6350          S  594479863   \n",
       "\n",
       "    AWATER   INTPTLAT    INTPTLON  \\\n",
       "0  1919478  43.520930  -88.715147   \n",
       "1   473269  40.666338  -80.240179   \n",
       "2   434268  38.593521 -121.539867   \n",
       "3  7915129  45.024673  -68.734534   \n",
       "4  1466926  35.455746  -86.484790   \n",
       "\n",
       "                                            geometry  \n",
       "0  POLYGON ((-88.79170 43.53140, -88.79127 43.531...  \n",
       "1  POLYGON ((-80.25520 40.67407, -80.25538 40.673...  \n",
       "2  POLYGON ((-121.58275 38.57903, -121.58277 38.5...  \n",
       "3  POLYGON ((-68.84231 45.09506, -68.84195 45.093...  \n",
       "4  MULTIPOLYGON (((-86.46235 35.62683, -86.46236 ...  "
      ]
     },
     "execution_count": 3,
     "metadata": {},
     "output_type": "execute_result"
    }
   ],
   "source": [
    "print(gdf.shape)\n",
    "gdf.head()"
   ]
  },
  {
   "cell_type": "markdown",
   "metadata": {},
   "source": [
    "# Coordinate Reference Systems (CRS)\n",
    "\n",
    "The Coordinate Reference System (CRS) is an important concept in geospatial data because the geometric shapes in a GeoSeries or GeoDataFrame object are simply a collection of coordinates in arbitrary space. A CRS tells Python how those coordinates relate to places on the Earth and thus how they should appear when you plot them in a map.\n",
    "\n",
    "\n",
    "## Setting the CRS\n",
    "\n",
    "A lot of the time geographic data will already have a CRS assigned, but there are some cases when they don't and to manually assign a CRS:"
   ]
  },
  {
   "cell_type": "code",
   "execution_count": null,
   "metadata": {},
   "outputs": [],
   "source": [
    "gdf.crs = \"EPSG:4326\""
   ]
  },
  {
   "cell_type": "markdown",
   "metadata": {},
   "source": [
    "To view the CRS of a GeoDataFrame"
   ]
  },
  {
   "cell_type": "code",
   "execution_count": 4,
   "metadata": {},
   "outputs": [
    {
     "data": {
      "text/plain": [
       "<Geographic 2D CRS: EPSG:4326>\n",
       "Name: WGS 84\n",
       "Axis Info [ellipsoidal]:\n",
       "- Lat[north]: Geodetic latitude (degree)\n",
       "- Lon[east]: Geodetic longitude (degree)\n",
       "Area of Use:\n",
       "- name: World\n",
       "- bounds: (-180.0, -90.0, 180.0, 90.0)\n",
       "Datum: World Geodetic System 1984\n",
       "- Ellipsoid: WGS 84\n",
       "- Prime Meridian: Greenwich"
      ]
     },
     "execution_count": 4,
     "metadata": {},
     "output_type": "execute_result"
    }
   ],
   "source": [
    "gdf.crs"
   ]
  },
  {
   "cell_type": "markdown",
   "metadata": {},
   "source": [
    "# Plotting geometries within a GeoDataFrame\n",
    "\n",
    "To plot a single NYC zipcode in our GeoDataFrame we can filter use the same indexing methods available in Pandas followed by the **.plot()** function."
   ]
  },
  {
   "cell_type": "code",
   "execution_count": 5,
   "metadata": {},
   "outputs": [
    {
     "data": {
      "text/plain": [
       "<AxesSubplot:>"
      ]
     },
     "execution_count": 5,
     "metadata": {},
     "output_type": "execute_result"
    },
    {
     "data": {
      "image/png": "[encoded data removed]",
      "text/plain": [
       "<Figure size 432x288 with 1 Axes>"
      ]
     },
     "metadata": {
      "needs_background": "light"
     },
     "output_type": "display_data"
    }
   ],
   "source": [
    "# Plotting the Chelsea, Manhattan zip code (10011)\n",
    "gdf[gdf['region_id']=='10011'].plot()"
   ]
  },
  {
   "cell_type": "markdown",
   "metadata": {},
   "source": [
    "# Geocoding Data with the HERE API"
   ]
  },
  {
   "cell_type": "code",
   "execution_count": null,
   "metadata": {},
   "outputs": [],
   "source": []
  },
  {
   "cell_type": "code",
   "execution_count": null,
   "metadata": {},
   "outputs": [],
   "source": []
  },
  {
   "cell_type": "code",
   "execution_count": null,
   "metadata": {},
   "outputs": [],
   "source": []
  },
  {
   "cell_type": "markdown",
   "metadata": {},
   "source": [
    "# Analyzing Geospatial Data"
   ]
  },
  {
   "cell_type": "code",
   "execution_count": 6,
   "metadata": {},
   "outputs": [],
   "source": [
    "# first we have to connect to the Socrata API to access NYC data\n",
    "client = Socrata(\"data.cityofnewyork.us\", os.environ['nyc_soda_cuny_token'])"
   ]
  },
  {
   "cell_type": "markdown",
   "metadata": {},
   "source": [
    "Next we download the building footprints dataset and the property valuation dataset"
   ]
  },
  {
   "cell_type": "code",
   "execution_count": 7,
   "metadata": {},
   "outputs": [],
   "source": [
    "results = client.get(\"yjyb-7w4g\", limit=1000000)\n",
    "bldgs = pd.DataFrame.from_records(results)"
   ]
  },
  {
   "cell_type": "code",
   "execution_count": 8,
   "metadata": {},
   "outputs": [
    {
     "name": "stdout",
     "output_type": "stream",
     "text": [
      "(1000000, 15)\n"
     ]
    },
    {
     "data": {
      "text/html": [
       "<div>\n",
       "<style scoped>\n",
       "    .dataframe tbody tr th:only-of-type {\n",
       "        vertical-align: middle;\n",
       "    }\n",
       "\n",
       "    .dataframe tbody tr th {\n",
       "        vertical-align: top;\n",
       "    }\n",
       "\n",
       "    .dataframe thead th {\n",
       "        text-align: right;\n",
       "    }\n",
       "</style>\n",
       "<table border=\"1\" class=\"dataframe\">\n",
       "  <thead>\n",
       "    <tr style=\"text-align: right;\">\n",
       "      <th></th>\n",
       "      <th>cnstrct_yr</th>\n",
       "      <th>the_geom</th>\n",
       "      <th>bin</th>\n",
       "      <th>lstmoddate</th>\n",
       "      <th>lststatype</th>\n",
       "      <th>doitt_id</th>\n",
       "      <th>heightroof</th>\n",
       "      <th>feat_code</th>\n",
       "      <th>groundelev</th>\n",
       "      <th>shape_area</th>\n",
       "      <th>shape_len</th>\n",
       "      <th>base_bbl</th>\n",
       "      <th>mpluto_bbl</th>\n",
       "      <th>geomsource</th>\n",
       "      <th>name</th>\n",
       "    </tr>\n",
       "  </thead>\n",
       "  <tbody>\n",
       "    <tr>\n",
       "      <th>0</th>\n",
       "      <td>2009</td>\n",
       "      <td>{'type': 'MultiPolygon', 'coordinates': [[[[-7...</td>\n",
       "      <td>3394646</td>\n",
       "      <td>2017-08-22T00:00:00.000Z</td>\n",
       "      <td>Constructed</td>\n",
       "      <td>1212853</td>\n",
       "      <td>21.60850812</td>\n",
       "      <td>2100</td>\n",
       "      <td>18</td>\n",
       "      <td>854.66243317866</td>\n",
       "      <td>125.0797955584</td>\n",
       "      <td>3044520815</td>\n",
       "      <td>3044520815</td>\n",
       "      <td>Photogramm</td>\n",
       "      <td>NaN</td>\n",
       "    </tr>\n",
       "  </tbody>\n",
       "</table>\n",
       "</div>"
      ],
      "text/plain": [
       "  cnstrct_yr                                           the_geom      bin  \\\n",
       "0       2009  {'type': 'MultiPolygon', 'coordinates': [[[[-7...  3394646   \n",
       "\n",
       "                 lstmoddate   lststatype doitt_id   heightroof feat_code  \\\n",
       "0  2017-08-22T00:00:00.000Z  Constructed  1212853  21.60850812      2100   \n",
       "\n",
       "  groundelev       shape_area       shape_len    base_bbl  mpluto_bbl  \\\n",
       "0         18  854.66243317866  125.0797955584  3044520815  3044520815   \n",
       "\n",
       "   geomsource name  \n",
       "0  Photogramm  NaN  "
      ]
     },
     "execution_count": 8,
     "metadata": {},
     "output_type": "execute_result"
    }
   ],
   "source": [
    "print(bldgs.shape)\n",
    "bldgs.head(1)"
   ]
  },
  {
   "cell_type": "code",
   "execution_count": 24,
   "metadata": {},
   "outputs": [],
   "source": [
    "# results = client.get(\"yjxr-fw8i\", limit=int(10e6))"
   ]
  },
  {
   "cell_type": "code",
   "execution_count": 9,
   "metadata": {},
   "outputs": [
    {
     "name": "stderr",
     "output_type": "stream",
     "text": [
      "/usr/local/lib/python3.8/site-packages/IPython/core/interactiveshell.py:3071: DtypeWarning: Columns (0,4) have mixed types.Specify dtype option on import or set low_memory=False.\n",
      "  has_raised = await self.run_ast_nodes(code_ast.body, cell_name,\n"
     ]
    }
   ],
   "source": [
    "val = pd.read_csv('data/Property_Valuation_and_Assessment_Data.csv',\n",
    "                  dtype={'BORO': str, 'BLOCK': str, 'LOT': str})"
   ]
  },
  {
   "cell_type": "code",
   "execution_count": 10,
   "metadata": {},
   "outputs": [],
   "source": [
    "val['bbl'] = val['BORO'] + val['BLOCK'] + val['LOT']\n",
    "val = val.dropna(subset=['Latitude'])"
   ]
  },
  {
   "cell_type": "code",
   "execution_count": 13,
   "metadata": {},
   "outputs": [],
   "source": [
    "val.rename(columns={'New Georeferenced Column': 'geom'}, inplace=True)\n",
    "val['geom'] = val['geom'].apply(wkt.loads)"
   ]
  },
  {
   "cell_type": "code",
   "execution_count": 11,
   "metadata": {},
   "outputs": [
    {
     "name": "stdout",
     "output_type": "stream",
     "text": [
      "(9501114, 41)\n"
     ]
    },
    {
     "data": {
      "text/html": [
       "<div>\n",
       "<style scoped>\n",
       "    .dataframe tbody tr th:only-of-type {\n",
       "        vertical-align: middle;\n",
       "    }\n",
       "\n",
       "    .dataframe tbody tr th {\n",
       "        vertical-align: top;\n",
       "    }\n",
       "\n",
       "    .dataframe thead th {\n",
       "        text-align: right;\n",
       "    }\n",
       "</style>\n",
       "<table border=\"1\" class=\"dataframe\">\n",
       "  <thead>\n",
       "    <tr style=\"text-align: right;\">\n",
       "      <th></th>\n",
       "      <th>BBLE</th>\n",
       "      <th>BORO</th>\n",
       "      <th>BLOCK</th>\n",
       "      <th>LOT</th>\n",
       "      <th>EASEMENT</th>\n",
       "      <th>OWNER</th>\n",
       "      <th>BLDGCL</th>\n",
       "      <th>TAXCLASS</th>\n",
       "      <th>LTFRONT</th>\n",
       "      <th>LTDEPTH</th>\n",
       "      <th>...</th>\n",
       "      <th>Borough</th>\n",
       "      <th>Latitude</th>\n",
       "      <th>Longitude</th>\n",
       "      <th>Community Board</th>\n",
       "      <th>Council District</th>\n",
       "      <th>Census Tract</th>\n",
       "      <th>BIN</th>\n",
       "      <th>NTA</th>\n",
       "      <th>New Georeferenced Column</th>\n",
       "      <th>bbl</th>\n",
       "    </tr>\n",
       "  </thead>\n",
       "  <tbody>\n",
       "    <tr>\n",
       "      <th>0</th>\n",
       "      <td>1015571186</td>\n",
       "      <td>1</td>\n",
       "      <td>1557</td>\n",
       "      <td>1186</td>\n",
       "      <td>NaN</td>\n",
       "      <td>THE MARMARA INC.</td>\n",
       "      <td>RH</td>\n",
       "      <td>4</td>\n",
       "      <td>0</td>\n",
       "      <td>0</td>\n",
       "      <td>...</td>\n",
       "      <td>MANHATTAN</td>\n",
       "      <td>40.782799</td>\n",
       "      <td>-73.947678</td>\n",
       "      <td>108.0</td>\n",
       "      <td>5.0</td>\n",
       "      <td>15601.0</td>\n",
       "      <td>1050324.0</td>\n",
       "      <td>Yorkville</td>\n",
       "      <td>POINT (-73.947678 40.782799)</td>\n",
       "      <td>115571186</td>\n",
       "    </tr>\n",
       "  </tbody>\n",
       "</table>\n",
       "<p>1 rows × 41 columns</p>\n",
       "</div>"
      ],
      "text/plain": [
       "         BBLE BORO BLOCK   LOT EASEMENT             OWNER BLDGCL TAXCLASS  \\\n",
       "0  1015571186    1  1557  1186      NaN  THE MARMARA INC.     RH        4   \n",
       "\n",
       "   LTFRONT  LTDEPTH  ...    Borough   Latitude  Longitude  Community Board  \\\n",
       "0        0        0  ...  MANHATTAN  40.782799 -73.947678            108.0   \n",
       "\n",
       "   Council District  Census Tract        BIN        NTA  \\\n",
       "0               5.0       15601.0  1050324.0  Yorkville   \n",
       "\n",
       "       New Georeferenced Column        bbl  \n",
       "0  POINT (-73.947678 40.782799)  115571186  \n",
       "\n",
       "[1 rows x 41 columns]"
      ]
     },
     "execution_count": 11,
     "metadata": {},
     "output_type": "execute_result"
    }
   ],
   "source": [
    "print(val.shape)\n",
    "val.head(1)"
   ]
  },
  {
   "cell_type": "code",
   "execution_count": 25,
   "metadata": {},
   "outputs": [],
   "source": [
    "bldgs['the_geom'] = bldgs['the_geom'].apply(shape)"
   ]
  },
  {
   "cell_type": "code",
   "execution_count": 26,
   "metadata": {},
   "outputs": [],
   "source": [
    "# convert data to GeoDataFrames\n",
    "bldgs = gpd.GeoDataFrame(bldgs, geometry='the_geom')\n",
    "val = gpd.GeoDataFrame(val, geometry='geom')\n",
    "bldgs = bldgs.set_crs(epsg=3857)\n",
    "val = val.set_crs(epsg=3857)"
   ]
  },
  {
   "cell_type": "code",
   "execution_count": 28,
   "metadata": {},
   "outputs": [],
   "source": [
    "combined = bldgs.merge(val, left_on='mpluto_bbl',\n",
    "                       right_on='BBLE')"
   ]
  },
  {
   "cell_type": "code",
   "execution_count": 29,
   "metadata": {},
   "outputs": [],
   "source": [
    "combined = combined[combined['TAXCLASS'] == '1']"
   ]
  },
  {
   "cell_type": "code",
   "execution_count": 30,
   "metadata": {},
   "outputs": [
    {
     "name": "stdout",
     "output_type": "stream",
     "text": [
      "(7275632, 56)\n"
     ]
    },
    {
     "data": {
      "text/html": [
       "<div>\n",
       "<style scoped>\n",
       "    .dataframe tbody tr th:only-of-type {\n",
       "        vertical-align: middle;\n",
       "    }\n",
       "\n",
       "    .dataframe tbody tr th {\n",
       "        vertical-align: top;\n",
       "    }\n",
       "\n",
       "    .dataframe thead th {\n",
       "        text-align: right;\n",
       "    }\n",
       "</style>\n",
       "<table border=\"1\" class=\"dataframe\">\n",
       "  <thead>\n",
       "    <tr style=\"text-align: right;\">\n",
       "      <th></th>\n",
       "      <th>cnstrct_yr</th>\n",
       "      <th>the_geom</th>\n",
       "      <th>bin</th>\n",
       "      <th>lstmoddate</th>\n",
       "      <th>lststatype</th>\n",
       "      <th>doitt_id</th>\n",
       "      <th>heightroof</th>\n",
       "      <th>feat_code</th>\n",
       "      <th>groundelev</th>\n",
       "      <th>shape_area</th>\n",
       "      <th>...</th>\n",
       "      <th>Borough</th>\n",
       "      <th>Latitude</th>\n",
       "      <th>Longitude</th>\n",
       "      <th>Community Board</th>\n",
       "      <th>Council District</th>\n",
       "      <th>Census Tract</th>\n",
       "      <th>BIN</th>\n",
       "      <th>NTA</th>\n",
       "      <th>geom</th>\n",
       "      <th>bbl</th>\n",
       "    </tr>\n",
       "  </thead>\n",
       "  <tbody>\n",
       "    <tr>\n",
       "      <th>0</th>\n",
       "      <td>2009</td>\n",
       "      <td>MULTIPOLYGON (((-73.87130 40.65717, -73.87136 ...</td>\n",
       "      <td>3394646</td>\n",
       "      <td>2017-08-22T00:00:00.000Z</td>\n",
       "      <td>Constructed</td>\n",
       "      <td>1212853</td>\n",
       "      <td>21.60850812</td>\n",
       "      <td>2100</td>\n",
       "      <td>18</td>\n",
       "      <td>854.66243317866</td>\n",
       "      <td>...</td>\n",
       "      <td>BROOKLYN</td>\n",
       "      <td>40.657362</td>\n",
       "      <td>-73.8714</td>\n",
       "      <td>305.0</td>\n",
       "      <td>42.0</td>\n",
       "      <td>1070.0</td>\n",
       "      <td>3394646.0</td>\n",
       "      <td>East New York</td>\n",
       "      <td>POINT (-73.87140 40.65736)</td>\n",
       "      <td>34452815</td>\n",
       "    </tr>\n",
       "  </tbody>\n",
       "</table>\n",
       "<p>1 rows × 56 columns</p>\n",
       "</div>"
      ],
      "text/plain": [
       "  cnstrct_yr                                           the_geom      bin  \\\n",
       "0       2009  MULTIPOLYGON (((-73.87130 40.65717, -73.87136 ...  3394646   \n",
       "\n",
       "                 lstmoddate   lststatype doitt_id   heightroof feat_code  \\\n",
       "0  2017-08-22T00:00:00.000Z  Constructed  1212853  21.60850812      2100   \n",
       "\n",
       "  groundelev       shape_area  ...   Borough   Latitude Longitude  \\\n",
       "0         18  854.66243317866  ...  BROOKLYN  40.657362  -73.8714   \n",
       "\n",
       "  Community Board Council District Census Tract        BIN            NTA  \\\n",
       "0           305.0             42.0       1070.0  3394646.0  East New York   \n",
       "\n",
       "                         geom       bbl  \n",
       "0  POINT (-73.87140 40.65736)  34452815  \n",
       "\n",
       "[1 rows x 56 columns]"
      ]
     },
     "execution_count": 30,
     "metadata": {},
     "output_type": "execute_result"
    }
   ],
   "source": [
    "print(combined.shape)\n",
    "combined.head(1)"
   ]
  },
  {
   "cell_type": "code",
   "execution_count": 32,
   "metadata": {},
   "outputs": [],
   "source": [
    "poi = client.get(\"6td7-3n3g\", limit=25500)\n",
    "poi_df = pd.DataFrame.from_records(poi)"
   ]
  },
  {
   "cell_type": "code",
   "execution_count": 33,
   "metadata": {},
   "outputs": [
    {
     "name": "stdout",
     "output_type": "stream",
     "text": [
      "(20402, 16)\n"
     ]
    },
    {
     "data": {
      "text/html": [
       "<div>\n",
       "<style scoped>\n",
       "    .dataframe tbody tr th:only-of-type {\n",
       "        vertical-align: middle;\n",
       "    }\n",
       "\n",
       "    .dataframe tbody tr th {\n",
       "        vertical-align: top;\n",
       "    }\n",
       "\n",
       "    .dataframe thead th {\n",
       "        text-align: right;\n",
       "    }\n",
       "</style>\n",
       "<table border=\"1\" class=\"dataframe\">\n",
       "  <thead>\n",
       "    <tr style=\"text-align: right;\">\n",
       "      <th></th>\n",
       "      <th>the_geom</th>\n",
       "      <th>segmentid</th>\n",
       "      <th>saftype</th>\n",
       "      <th>complexid</th>\n",
       "      <th>sos</th>\n",
       "      <th>placeid</th>\n",
       "      <th>faci_dom</th>\n",
       "      <th>bin</th>\n",
       "      <th>borough</th>\n",
       "      <th>created</th>\n",
       "      <th>modified</th>\n",
       "      <th>facility_t</th>\n",
       "      <th>source</th>\n",
       "      <th>b7_sc</th>\n",
       "      <th>pri_add</th>\n",
       "      <th>name</th>\n",
       "    </tr>\n",
       "  </thead>\n",
       "  <tbody>\n",
       "    <tr>\n",
       "      <th>0</th>\n",
       "      <td>{'type': 'Point', 'coordinates': [-73.93149397...</td>\n",
       "      <td>193927</td>\n",
       "      <td>N</td>\n",
       "      <td>401</td>\n",
       "      <td>1</td>\n",
       "      <td>1031153</td>\n",
       "      <td>8</td>\n",
       "      <td>0</td>\n",
       "      <td>1</td>\n",
       "      <td>2018-04-12T00:00:00.000Z</td>\n",
       "      <td>2020-03-12T00:00:00.000Z</td>\n",
       "      <td>6</td>\n",
       "      <td>DCP</td>\n",
       "      <td>11095502</td>\n",
       "      <td>0</td>\n",
       "      <td>HRD RAMP TO GWB OVER HRD SB</td>\n",
       "    </tr>\n",
       "  </tbody>\n",
       "</table>\n",
       "</div>"
      ],
      "text/plain": [
       "                                            the_geom segmentid saftype  \\\n",
       "0  {'type': 'Point', 'coordinates': [-73.93149397...    193927       N   \n",
       "\n",
       "  complexid sos  placeid faci_dom bin borough                   created  \\\n",
       "0       401   1  1031153        8   0       1  2018-04-12T00:00:00.000Z   \n",
       "\n",
       "                   modified facility_t source     b7_sc pri_add  \\\n",
       "0  2020-03-12T00:00:00.000Z          6    DCP  11095502       0   \n",
       "\n",
       "                          name  \n",
       "0  HRD RAMP TO GWB OVER HRD SB  "
      ]
     },
     "execution_count": 33,
     "metadata": {},
     "output_type": "execute_result"
    }
   ],
   "source": [
    "print(poi_df.shape)\n",
    "poi_df.head(1)"
   ]
  },
  {
   "cell_type": "code",
   "execution_count": 34,
   "metadata": {},
   "outputs": [],
   "source": [
    "poi_df['the_geom'] = poi_df['the_geom'].apply(lambda x: shape(x))"
   ]
  },
  {
   "cell_type": "code",
   "execution_count": 35,
   "metadata": {},
   "outputs": [],
   "source": [
    "poi_df = gpd.GeoDataFrame(poi_df, geometry='the_geom')\n",
    "poi_df = poi_df.set_crs(epsg=3857)"
   ]
  },
  {
   "cell_type": "code",
   "execution_count": 36,
   "metadata": {},
   "outputs": [],
   "source": [
    "places = ['museum', 'theatre', 'theater', 'gallery', 'thtr',\n",
    "          'art', 'cinema', 'cinemas', 'moma', 'BREUER', 'drawing center']\n",
    "culture_df = poi_df[(poi_df['facility_t']=='3') & \n",
    "                    (poi_df['name'].str.lower().str.contains('|'.join(places)))]"
   ]
  },
  {
   "cell_type": "code",
   "execution_count": 41,
   "metadata": {},
   "outputs": [],
   "source": [
    "# unary union of the culture_df geomtries \n",
    "clt = culture_df.the_geom.unary_union\n",
    "\n",
    "def near(point, pts):\n",
    "    # find the nearest poi\n",
    "    nearest = nearest_points(point, pts)[1]\n",
    "    return point.distance(nearest)"
   ]
  },
  {
   "cell_type": "code",
   "execution_count": 43,
   "metadata": {},
   "outputs": [],
   "source": [
    "# combined['distance'] = combined.apply(lambda x: near(x.the_geom.centroid, clt), axis=1)"
   ]
  },
  {
   "cell_type": "code",
   "execution_count": null,
   "metadata": {},
   "outputs": [],
   "source": []
  },
  {
   "cell_type": "code",
   "execution_count": null,
   "metadata": {},
   "outputs": [],
   "source": []
  },
  {
   "cell_type": "code",
   "execution_count": null,
   "metadata": {},
   "outputs": [],
   "source": []
  }
 ],
 "metadata": {
  "kernelspec": {
   "display_name": "Python 3",
   "language": "python",
   "name": "python3"
  },
  "language_info": {
   "codemirror_mode": {
    "name": "ipython",
    "version": 3
   },
   "file_extension": ".py",
   "mimetype": "text/x-python",
   "name": "python",
   "nbconvert_exporter": "python",
   "pygments_lexer": "ipython3",
   "version": "3.8.5"
  }
 },
 "nbformat": 4,
 "nbformat_minor": 4
}
