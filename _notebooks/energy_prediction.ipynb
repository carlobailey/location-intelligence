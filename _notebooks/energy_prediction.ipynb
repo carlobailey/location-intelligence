{
 "cells": [
  {
   "cell_type": "markdown",
   "metadata": {},
   "source": [
    "# Predicting Building Energy Use\n",
    "\n",
    "This tutorial demonstrates how to utilize NYC Open data on [building energy & water usage](https://data.cityofnewyork.us/Environment/Energy-and-Water-Data-Disclosure-for-Local-Law-84-/qb3v-bbre) to predict city wide building performance. It will introduce fundamental concepts of predictive modelling: feature engineering, training a model, and evaulating model performance. \n",
    "\n",
    "We will use variables from NYC PLUTO and [building footprints](https://data.cityofnewyork.us/Housing-Development/Building-Footprints/nqwf-w8eh) datasets to generate features and predict a building's annual energy consumption.\n",
    "\n",
    "The first step is to import all the necessary libraries:\n",
    "- [Geopandas](https://geopandas.org/index.html): similar to pandas with extensions to make it easier to work  with geospatial data.\n",
    "- [Matplotlib](https://matplotlib.org/): the defacto library for drawing/plotting in Python\n",
    "- [Sodapy](https://github.com/xmunoz/sodapy): is an interface for interacting with NYC Open data (more broadly the Socrata API that NYC Open data relies on)\n",
    "- [Shapely](https://shapely.readthedocs.io/en/stable/manual.html): a library for manipulaitng and analysing geometry\n",
    "- [Sci-kit learn](https://scikit-learn.org/stable/): machine learning library\n",
    "- [Psycopg2](https://www.psycopg.org/docs/): is a utility library that makes it easier to connect to postgresql"
   ]
  },
  {
   "cell_type": "code",
   "execution_count": 1,
   "metadata": {},
   "outputs": [],
   "source": [
    "import os\n",
    "import pandas as pd\n",
    "import numpy as np\n",
    "import geopandas as gpd\n",
    "from sodapy import Socrata\n",
    "from scipy.stats import pearsonr\n",
    "import matplotlib.pyplot as plt"
   ]
  },
  {
   "cell_type": "code",
   "execution_count": 2,
   "metadata": {},
   "outputs": [],
   "source": [
    "from sklearn.decomposition import PCA as sklearnPCA\n",
    "from sklearn.preprocessing import StandardScaler\n",
    "from sklearn.model_selection import train_test_split, KFold, GridSearchCV\n",
    "from sklearn.linear_model import Lasso\n",
    "from sklearn.metrics import r2_score, mean_squared_error\n",
    "from sklearn.kernel_ridge import KernelRidge"
   ]
  },
  {
   "cell_type": "code",
   "execution_count": 3,
   "metadata": {},
   "outputs": [],
   "source": [
    "import warnings\n",
    "warnings.filterwarnings(\"ignore\")"
   ]
  },
  {
   "cell_type": "markdown",
   "metadata": {},
   "source": [
    "<br>\n",
    "\n",
    "### Download Building Energy Data\n",
    "Next we use the Socrata library to download building energy data from the NYC open data portal."
   ]
  },
  {
   "cell_type": "code",
   "execution_count": 6,
   "metadata": {},
   "outputs": [],
   "source": [
    "client = Socrata(\"data.cityofnewyork.us\", os.environ['nyc_soda_cuny_token'])\n",
    "results = client.get(\"qb3v-bbre\", limit=30000)\n",
    "bldg_energy = pd.DataFrame.from_records(results)"
   ]
  },
  {
   "cell_type": "markdown",
   "metadata": {},
   "source": [
    "<br>\n",
    "\n",
    "### Data wrangling\n",
    "\n",
    "This next section will focus on cleaning up some of the idiosyncrasies of the energy dataset. Specifically, renaming columns, checking data types, and removing duplicates.\n",
    "\n",
    "The column names from the energy datasets are fairly verbose, so below we use the Pandas **rename()** function to simplify the BBL and building ID columns. BBL, short for Borough Block Lot, is an identification code for buildings across the city used by the Planning department."
   ]
  },
  {
   "cell_type": "code",
   "execution_count": 7,
   "metadata": {},
   "outputs": [],
   "source": [
    "bldg_energy.rename(columns={'bbl_10_digits': 'bbl',\n",
    "                            'nyc_building_identification': 'bin'}, \n",
    "                   inplace=True)"
   ]
  },
  {
   "cell_type": "code",
   "execution_count": 8,
   "metadata": {},
   "outputs": [
    {
     "name": "stdout",
     "output_type": "stream",
     "text": [
      "(28807, 67)\n"
     ]
    },
    {
     "data": {
      "text/html": [
       "<div>\n",
       "<style scoped>\n",
       "    .dataframe tbody tr th:only-of-type {\n",
       "        vertical-align: middle;\n",
       "    }\n",
       "\n",
       "    .dataframe tbody tr th {\n",
       "        vertical-align: top;\n",
       "    }\n",
       "\n",
       "    .dataframe thead th {\n",
       "        text-align: right;\n",
       "    }\n",
       "</style>\n",
       "<table border=\"1\" class=\"dataframe\">\n",
       "  <thead>\n",
       "    <tr style=\"text-align: right;\">\n",
       "      <th></th>\n",
       "      <th>order</th>\n",
       "      <th>property_id</th>\n",
       "      <th>property_name</th>\n",
       "      <th>parent_property_id</th>\n",
       "      <th>parent_property_name</th>\n",
       "      <th>city_building</th>\n",
       "      <th>bbl</th>\n",
       "      <th>nyc_borough_block_and_lot</th>\n",
       "      <th>bin</th>\n",
       "      <th>address_1_self_reported</th>\n",
       "      <th>...</th>\n",
       "      <th>water_use_all_water_sources</th>\n",
       "      <th>water_use_intensity_all_water</th>\n",
       "      <th>water_required</th>\n",
       "      <th>generation_date</th>\n",
       "      <th>latitude</th>\n",
       "      <th>longitude</th>\n",
       "      <th>community_board</th>\n",
       "      <th>council_district</th>\n",
       "      <th>census_tract</th>\n",
       "      <th>nta</th>\n",
       "    </tr>\n",
       "  </thead>\n",
       "  <tbody>\n",
       "    <tr>\n",
       "      <th>0</th>\n",
       "      <td>1</td>\n",
       "      <td>7365</td>\n",
       "      <td>1155</td>\n",
       "      <td>Not Applicable: Standalone Property</td>\n",
       "      <td>Not Applicable: Standalone Property</td>\n",
       "      <td>No</td>\n",
       "      <td>1009970029</td>\n",
       "      <td>1009970029</td>\n",
       "      <td>1022631</td>\n",
       "      <td>1155  Avenue  of  the  Americas</td>\n",
       "      <td>...</td>\n",
       "      <td>Not Available</td>\n",
       "      <td>Not Available</td>\n",
       "      <td>No</td>\n",
       "      <td>2020-05-28T04:27:00.000</td>\n",
       "      <td>40.756631</td>\n",
       "      <td>-73.982826</td>\n",
       "      <td>105</td>\n",
       "      <td>4</td>\n",
       "      <td>119</td>\n",
       "      <td>Midtown-Midtown South</td>\n",
       "    </tr>\n",
       "    <tr>\n",
       "      <th>1</th>\n",
       "      <td>2</td>\n",
       "      <td>8139</td>\n",
       "      <td>200</td>\n",
       "      <td>Not Applicable: Standalone Property</td>\n",
       "      <td>Not Applicable: Standalone Property</td>\n",
       "      <td>No</td>\n",
       "      <td>1013150001</td>\n",
       "      <td>1013150001</td>\n",
       "      <td>1037545</td>\n",
       "      <td>200  East  42nd  St.</td>\n",
       "      <td>...</td>\n",
       "      <td>7310.6</td>\n",
       "      <td>19.02</td>\n",
       "      <td>Yes</td>\n",
       "      <td>2020-05-28T04:27:00.000</td>\n",
       "      <td>40.750698</td>\n",
       "      <td>-73.974306</td>\n",
       "      <td>106</td>\n",
       "      <td>4</td>\n",
       "      <td>88</td>\n",
       "      <td>Turtle Bay-East Midtown</td>\n",
       "    </tr>\n",
       "    <tr>\n",
       "      <th>2</th>\n",
       "      <td>3</td>\n",
       "      <td>8604</td>\n",
       "      <td>114</td>\n",
       "      <td>Not Applicable: Standalone Property</td>\n",
       "      <td>Not Applicable: Standalone Property</td>\n",
       "      <td>No</td>\n",
       "      <td>1009990019</td>\n",
       "      <td>1009990019</td>\n",
       "      <td>1022667</td>\n",
       "      <td>114  West  47th  st</td>\n",
       "      <td>...</td>\n",
       "      <td>Not Available</td>\n",
       "      <td>Not Available</td>\n",
       "      <td>No</td>\n",
       "      <td>2020-05-28T04:27:00.000</td>\n",
       "      <td>40.75831</td>\n",
       "      <td>-73.982504</td>\n",
       "      <td>105</td>\n",
       "      <td>4</td>\n",
       "      <td>125</td>\n",
       "      <td>Midtown-Midtown South</td>\n",
       "    </tr>\n",
       "  </tbody>\n",
       "</table>\n",
       "<p>3 rows × 67 columns</p>\n",
       "</div>"
      ],
      "text/plain": [
       "  order property_id property_name                   parent_property_id  \\\n",
       "0     1        7365          1155  Not Applicable: Standalone Property   \n",
       "1     2        8139           200  Not Applicable: Standalone Property   \n",
       "2     3        8604           114  Not Applicable: Standalone Property   \n",
       "\n",
       "                  parent_property_name city_building         bbl  \\\n",
       "0  Not Applicable: Standalone Property            No  1009970029   \n",
       "1  Not Applicable: Standalone Property            No  1013150001   \n",
       "2  Not Applicable: Standalone Property            No  1009990019   \n",
       "\n",
       "  nyc_borough_block_and_lot      bin          address_1_self_reported  ...  \\\n",
       "0                1009970029  1022631  1155  Avenue  of  the  Americas  ...   \n",
       "1                1013150001  1037545             200  East  42nd  St.  ...   \n",
       "2                1009990019  1022667              114  West  47th  st  ...   \n",
       "\n",
       "  water_use_all_water_sources water_use_intensity_all_water water_required  \\\n",
       "0               Not Available                 Not Available             No   \n",
       "1                      7310.6                         19.02            Yes   \n",
       "2               Not Available                 Not Available             No   \n",
       "\n",
       "           generation_date   latitude   longitude community_board  \\\n",
       "0  2020-05-28T04:27:00.000  40.756631  -73.982826             105   \n",
       "1  2020-05-28T04:27:00.000  40.750698  -73.974306             106   \n",
       "2  2020-05-28T04:27:00.000   40.75831  -73.982504             105   \n",
       "\n",
       "  council_district census_tract                      nta  \n",
       "0                4          119    Midtown-Midtown South  \n",
       "1                4           88  Turtle Bay-East Midtown  \n",
       "2                4          125    Midtown-Midtown South  \n",
       "\n",
       "[3 rows x 67 columns]"
      ]
     },
     "execution_count": 8,
     "metadata": {},
     "output_type": "execute_result"
    }
   ],
   "source": [
    "print(bldg_energy.shape)\n",
    "bldg_energy.head(3)"
   ]
  },
  {
   "cell_type": "markdown",
   "metadata": {},
   "source": [
    "<br>\n",
    "<br>\n",
    "\n",
    "Missing values are called 'Not Available' within the data, below we convert all occurences of missing values to the NaN data type that is more common in Pandas/Nunmpy.\n",
    "\n",
    "Strangely, many of the numeric columns are downloaded in text/string format, we also convert these to integers and floats."
   ]
  },
  {
   "cell_type": "code",
   "execution_count": 9,
   "metadata": {},
   "outputs": [],
   "source": [
    "bldg_energy.replace(to_replace={'Not Available': np.nan}, inplace=True)"
   ]
  },
  {
   "cell_type": "code",
   "execution_count": 10,
   "metadata": {},
   "outputs": [],
   "source": [
    "bldg_energy['number_of_buildings'] = bldg_energy['number_of_buildings'].astype(int)"
   ]
  },
  {
   "cell_type": "code",
   "execution_count": 11,
   "metadata": {},
   "outputs": [],
   "source": [
    "cols = ['energy_star_score', 'occupancy', 'dof_gross_floor_area_ft',\n",
    "        'site_eui_kbtu_ft', 'weather_normalized_source', 'weather_normalized_site',\n",
    "        'weather_normalized_site_1', 'fuel_oil_1_use_kbtu', 'fuel_oil_2_use_kbtu',\n",
    "        'fuel_oil_4_use_kbtu', 'fuel_oil_5_6_use_kbtu', 'diesel_2_use_kbtu',\n",
    "        'kerosene_use_kbtu', 'propane_use_kbtu', 'district_steam_use_kbtu',\n",
    "        'district_hot_water_use_kbtu', 'district_chilled_water_use',\n",
    "        'natural_gas_use_kbtu', 'weather_normalized_site_2',\n",
    "        'electricity_use_grid_purchase', 'electricity_use_grid_purchase_1',\n",
    "        'weather_normalized_site_3', 'annual_maximum_demand_kw',\n",
    "        'total_ghg_emissions_metric', 'direct_ghg_emissions_metric',\n",
    "        'water_use_all_water_sources', 'water_use_intensity_all_water',\n",
    "        'latitude', 'longitude', 'indirect_ghg_emissions_metric']"
   ]
  },
  {
   "cell_type": "code",
   "execution_count": 12,
   "metadata": {},
   "outputs": [],
   "source": [
    "for col in cols:\n",
    "    bldg_energy[col] = bldg_energy[col].astype(float)"
   ]
  },
  {
   "cell_type": "markdown",
   "metadata": {},
   "source": [
    "### Downloading Pluto data\n",
    "\n",
    "Next we can download the Planning departments [building data](https://www1.nyc.gov/site/planning/data-maps/open-data/dwn-pluto-mappluto.page). Notice when the csv is loaded below we specify the data type for a few columns. This ensures identification columns are read as categorical variables rather than numeric."
   ]
  },
  {
   "cell_type": "code",
   "execution_count": 13,
   "metadata": {},
   "outputs": [],
   "source": [
    "path = 'path_to_pluto/pluto_20v6.csv'"
   ]
  },
  {
   "cell_type": "code",
   "execution_count": 14,
   "metadata": {},
   "outputs": [],
   "source": [
    "df = pd.read_csv(path, low_memory=False, \n",
    "                 dtype={'block': str, 'lot': str,\n",
    "                        'cd': str, 'ct2010': str,\n",
    "                        'cb2010': str, 'schooldist': str,\n",
    "                        'council': str, 'zipcode': str,\n",
    "                        'landuse': str, 'bbl': str})\n",
    "df['bbl'] = df['bbl'].str.replace('.00000000', '')"
   ]
  },
  {
   "cell_type": "code",
   "execution_count": 15,
   "metadata": {},
   "outputs": [
    {
     "name": "stdout",
     "output_type": "stream",
     "text": [
      "(858308, 90)\n"
     ]
    },
    {
     "data": {
      "text/html": [
       "<div>\n",
       "<style scoped>\n",
       "    .dataframe tbody tr th:only-of-type {\n",
       "        vertical-align: middle;\n",
       "    }\n",
       "\n",
       "    .dataframe tbody tr th {\n",
       "        vertical-align: top;\n",
       "    }\n",
       "\n",
       "    .dataframe thead th {\n",
       "        text-align: right;\n",
       "    }\n",
       "</style>\n",
       "<table border=\"1\" class=\"dataframe\">\n",
       "  <thead>\n",
       "    <tr style=\"text-align: right;\">\n",
       "      <th></th>\n",
       "      <th>borough</th>\n",
       "      <th>block</th>\n",
       "      <th>lot</th>\n",
       "      <th>cd</th>\n",
       "      <th>ct2010</th>\n",
       "      <th>cb2010</th>\n",
       "      <th>schooldist</th>\n",
       "      <th>council</th>\n",
       "      <th>zipcode</th>\n",
       "      <th>firecomp</th>\n",
       "      <th>...</th>\n",
       "      <th>appbbl</th>\n",
       "      <th>appdate</th>\n",
       "      <th>plutomapid</th>\n",
       "      <th>firm07_flag</th>\n",
       "      <th>pfirm15_flag</th>\n",
       "      <th>version</th>\n",
       "      <th>dcpedited</th>\n",
       "      <th>latitude</th>\n",
       "      <th>longitude</th>\n",
       "      <th>notes</th>\n",
       "    </tr>\n",
       "  </thead>\n",
       "  <tbody>\n",
       "    <tr>\n",
       "      <th>0</th>\n",
       "      <td>BX</td>\n",
       "      <td>5639</td>\n",
       "      <td>78</td>\n",
       "      <td>210</td>\n",
       "      <td>NaN</td>\n",
       "      <td>0002</td>\n",
       "      <td>NaN</td>\n",
       "      <td>13</td>\n",
       "      <td>NaN</td>\n",
       "      <td>NaN</td>\n",
       "      <td>...</td>\n",
       "      <td>NaN</td>\n",
       "      <td>NaN</td>\n",
       "      <td>4</td>\n",
       "      <td>1.0</td>\n",
       "      <td>1.0</td>\n",
       "      <td>20v6</td>\n",
       "      <td>NaN</td>\n",
       "      <td>40.840277</td>\n",
       "      <td>-73.780735</td>\n",
       "      <td>NaN</td>\n",
       "    </tr>\n",
       "    <tr>\n",
       "      <th>1</th>\n",
       "      <td>BK</td>\n",
       "      <td>8273</td>\n",
       "      <td>111</td>\n",
       "      <td>318</td>\n",
       "      <td>1018</td>\n",
       "      <td>1001</td>\n",
       "      <td>18</td>\n",
       "      <td>46</td>\n",
       "      <td>11236</td>\n",
       "      <td>L170</td>\n",
       "      <td>...</td>\n",
       "      <td>NaN</td>\n",
       "      <td>NaN</td>\n",
       "      <td>4</td>\n",
       "      <td>1.0</td>\n",
       "      <td>1.0</td>\n",
       "      <td>20v6</td>\n",
       "      <td>t</td>\n",
       "      <td>40.644117</td>\n",
       "      <td>-73.886114</td>\n",
       "      <td>NaN</td>\n",
       "    </tr>\n",
       "    <tr>\n",
       "      <th>2</th>\n",
       "      <td>BX</td>\n",
       "      <td>5092</td>\n",
       "      <td>18</td>\n",
       "      <td>212</td>\n",
       "      <td>436</td>\n",
       "      <td>1000</td>\n",
       "      <td>11</td>\n",
       "      <td>12</td>\n",
       "      <td>10466</td>\n",
       "      <td>E063</td>\n",
       "      <td>...</td>\n",
       "      <td>NaN</td>\n",
       "      <td>NaN</td>\n",
       "      <td>1</td>\n",
       "      <td>NaN</td>\n",
       "      <td>NaN</td>\n",
       "      <td>20v6</td>\n",
       "      <td>NaN</td>\n",
       "      <td>40.899491</td>\n",
       "      <td>-73.848780</td>\n",
       "      <td>NaN</td>\n",
       "    </tr>\n",
       "  </tbody>\n",
       "</table>\n",
       "<p>3 rows × 90 columns</p>\n",
       "</div>"
      ],
      "text/plain": [
       "  borough block  lot   cd ct2010 cb2010 schooldist council zipcode firecomp  \\\n",
       "0      BX  5639   78  210    NaN   0002        NaN      13     NaN      NaN   \n",
       "1      BK  8273  111  318   1018   1001         18      46   11236     L170   \n",
       "2      BX  5092   18  212    436   1000         11      12   10466     E063   \n",
       "\n",
       "   ...  appbbl  appdate  plutomapid  firm07_flag  pfirm15_flag version  \\\n",
       "0  ...     NaN      NaN           4          1.0           1.0    20v6   \n",
       "1  ...     NaN      NaN           4          1.0           1.0    20v6   \n",
       "2  ...     NaN      NaN           1          NaN           NaN    20v6   \n",
       "\n",
       "  dcpedited   latitude  longitude notes  \n",
       "0       NaN  40.840277 -73.780735   NaN  \n",
       "1         t  40.644117 -73.886114   NaN  \n",
       "2       NaN  40.899491 -73.848780   NaN  \n",
       "\n",
       "[3 rows x 90 columns]"
      ]
     },
     "execution_count": 15,
     "metadata": {},
     "output_type": "execute_result"
    }
   ],
   "source": [
    "print(df.shape)\n",
    "df.head(3)"
   ]
  },
  {
   "cell_type": "markdown",
   "metadata": {},
   "source": [
    "### Loading building footprints data\n",
    "\n",
    "The final dataset to load is the NYC building footprint data. Below we do another round of specifying data types, ensuring columns are of the correct type."
   ]
  },
  {
   "cell_type": "code",
   "execution_count": 16,
   "metadata": {},
   "outputs": [],
   "source": [
    "path = \"path_to_footprints/Building Footprints.geojson\"\n",
    "bldgs = gpd.read_file(path, dtype={'shape_area': float, 'heightroof': float,\n",
    "                                  'cnstrct_yr': int, 'groundelev': int,\n",
    "                                  'shape_len': float})"
   ]
  },
  {
   "cell_type": "code",
   "execution_count": 17,
   "metadata": {},
   "outputs": [],
   "source": [
    "bldgs.rename(columns={'base_bbl': 'bbl'}, inplace=True)"
   ]
  },
  {
   "cell_type": "code",
   "execution_count": 18,
   "metadata": {},
   "outputs": [
    {
     "name": "stdout",
     "output_type": "stream",
     "text": [
      "(1113840, 15)\n"
     ]
    },
    {
     "data": {
      "text/html": [
       "<div>\n",
       "<style scoped>\n",
       "    .dataframe tbody tr th:only-of-type {\n",
       "        vertical-align: middle;\n",
       "    }\n",
       "\n",
       "    .dataframe tbody tr th {\n",
       "        vertical-align: top;\n",
       "    }\n",
       "\n",
       "    .dataframe thead th {\n",
       "        text-align: right;\n",
       "    }\n",
       "</style>\n",
       "<table border=\"1\" class=\"dataframe\">\n",
       "  <thead>\n",
       "    <tr style=\"text-align: right;\">\n",
       "      <th></th>\n",
       "      <th>name</th>\n",
       "      <th>bbl</th>\n",
       "      <th>shape_area</th>\n",
       "      <th>heightroof</th>\n",
       "      <th>mpluto_bbl</th>\n",
       "      <th>cnstrct_yr</th>\n",
       "      <th>lststatype</th>\n",
       "      <th>feat_code</th>\n",
       "      <th>groundelev</th>\n",
       "      <th>geomsource</th>\n",
       "      <th>bin</th>\n",
       "      <th>lstmoddate</th>\n",
       "      <th>doitt_id</th>\n",
       "      <th>shape_len</th>\n",
       "      <th>geometry</th>\n",
       "    </tr>\n",
       "  </thead>\n",
       "  <tbody>\n",
       "    <tr>\n",
       "      <th>0</th>\n",
       "      <td>None</td>\n",
       "      <td>3044520815</td>\n",
       "      <td>854.66243317866</td>\n",
       "      <td>21.60850812</td>\n",
       "      <td>3044520815</td>\n",
       "      <td>2009</td>\n",
       "      <td>Constructed</td>\n",
       "      <td>2100</td>\n",
       "      <td>18</td>\n",
       "      <td>Photogramm</td>\n",
       "      <td>3394646</td>\n",
       "      <td>2017-08-22T00:00:00+00:00</td>\n",
       "      <td>1212853</td>\n",
       "      <td>125.0797955584</td>\n",
       "      <td>MULTIPOLYGON (((-73.87130 40.65717, -73.87136 ...</td>\n",
       "    </tr>\n",
       "    <tr>\n",
       "      <th>1</th>\n",
       "      <td>None</td>\n",
       "      <td>4030640041</td>\n",
       "      <td>217.59424346169</td>\n",
       "      <td>10.36</td>\n",
       "      <td>4030640041</td>\n",
       "      <td>1930</td>\n",
       "      <td>Constructed</td>\n",
       "      <td>5110</td>\n",
       "      <td>122</td>\n",
       "      <td>Photogramm</td>\n",
       "      <td>4548330</td>\n",
       "      <td>2017-08-17T00:00:00+00:00</td>\n",
       "      <td>1226227</td>\n",
       "      <td>60.22585821856</td>\n",
       "      <td>MULTIPOLYGON (((-73.87671 40.71425, -73.87677 ...</td>\n",
       "    </tr>\n",
       "    <tr>\n",
       "      <th>2</th>\n",
       "      <td>None</td>\n",
       "      <td>4139430001</td>\n",
       "      <td>946.42747637737</td>\n",
       "      <td>29.81157033</td>\n",
       "      <td>4139430001</td>\n",
       "      <td>1960</td>\n",
       "      <td>Constructed</td>\n",
       "      <td>2100</td>\n",
       "      <td>10</td>\n",
       "      <td>Photogramm</td>\n",
       "      <td>4460479</td>\n",
       "      <td>2017-08-22T00:00:00+00:00</td>\n",
       "      <td>581946</td>\n",
       "      <td>123.14194057237</td>\n",
       "      <td>MULTIPOLYGON (((-73.85195 40.66235, -73.85195 ...</td>\n",
       "    </tr>\n",
       "  </tbody>\n",
       "</table>\n",
       "</div>"
      ],
      "text/plain": [
       "   name         bbl       shape_area   heightroof  mpluto_bbl cnstrct_yr  \\\n",
       "0  None  3044520815  854.66243317866  21.60850812  3044520815       2009   \n",
       "1  None  4030640041  217.59424346169        10.36  4030640041       1930   \n",
       "2  None  4139430001  946.42747637737  29.81157033  4139430001       1960   \n",
       "\n",
       "    lststatype feat_code groundelev  geomsource      bin  \\\n",
       "0  Constructed      2100         18  Photogramm  3394646   \n",
       "1  Constructed      5110        122  Photogramm  4548330   \n",
       "2  Constructed      2100         10  Photogramm  4460479   \n",
       "\n",
       "                  lstmoddate doitt_id        shape_len  \\\n",
       "0  2017-08-22T00:00:00+00:00  1212853   125.0797955584   \n",
       "1  2017-08-17T00:00:00+00:00  1226227   60.22585821856   \n",
       "2  2017-08-22T00:00:00+00:00   581946  123.14194057237   \n",
       "\n",
       "                                            geometry  \n",
       "0  MULTIPOLYGON (((-73.87130 40.65717, -73.87136 ...  \n",
       "1  MULTIPOLYGON (((-73.87671 40.71425, -73.87677 ...  \n",
       "2  MULTIPOLYGON (((-73.85195 40.66235, -73.85195 ...  "
      ]
     },
     "execution_count": 18,
     "metadata": {},
     "output_type": "execute_result"
    }
   ],
   "source": [
    "print(bldgs.shape)\n",
    "bldgs.head(3)"
   ]
  },
  {
   "cell_type": "markdown",
   "metadata": {},
   "source": [
    "<br>\n",
    "<br>\n",
    "\n",
    "### Merging data\n",
    "\n",
    "The next step is to merge the three datasets into one single DataFrame. However, there are a lot of columns that are superflous to this application – therefore, when merging we only choose 3 energy specific columns to merge: the annual greenhouse gas emmissions (metric), the electricity grid usage, and natural gas usage. These are the values we will try to predict with a model.\n",
    "\n",
    "We merge the enegy and pluto datasets using the BBL column."
   ]
  },
  {
   "cell_type": "code",
   "execution_count": 43,
   "metadata": {},
   "outputs": [],
   "source": [
    "bcols = ['bbl', 'bin', 'total_ghg_emissions_metric', 'direct_ghg_emissions_metric', \n",
    "         'electricity_use_grid_purchase', 'natural_gas_use_kbtu', 'occupancy']\n",
    "temp = bldg_energy[bcols].merge(df, on='bbl')"
   ]
  },
  {
   "cell_type": "markdown",
   "metadata": {},
   "source": [
    "<br>\n",
    "<br>\n",
    "\n",
    "similarly there are many superflous columns in the Pluto dataset, so here we only include columns that we'll use in model training."
   ]
  },
  {
   "cell_type": "code",
   "execution_count": 44,
   "metadata": {},
   "outputs": [],
   "source": [
    "cols = ['easements', 'lotarea', 'bldgarea', 'landuse',\n",
    "        'comarea', 'resarea', 'officearea', 'retailarea',\n",
    "        'garagearea', 'strgearea', 'factryarea', 'otherarea',\n",
    "        'areasource', 'numbldgs', 'numfloors', 'unitsres',\n",
    "        'unitstotal', 'lotfront', 'lotdepth', 'bldgfront',\n",
    "        'bldgdepth','yearbuilt', 'yearalter1', 'yearalter2',\n",
    "        'borough']"
   ]
  },
  {
   "cell_type": "code",
   "execution_count": 45,
   "metadata": {},
   "outputs": [],
   "source": [
    "temp = temp[cols+bcols]"
   ]
  },
  {
   "cell_type": "code",
   "execution_count": 46,
   "metadata": {},
   "outputs": [],
   "source": [
    "bfcols = ['shape_area', 'heightroof', 'groundelev',\n",
    "          'bin', 'shape_len', 'geometry']"
   ]
  },
  {
   "cell_type": "code",
   "execution_count": 47,
   "metadata": {},
   "outputs": [],
   "source": [
    "temp = temp.merge(bldgs[bfcols], on=['bin'])"
   ]
  },
  {
   "cell_type": "markdown",
   "metadata": {},
   "source": [
    "Here we remove any duplicate rows within the data"
   ]
  },
  {
   "cell_type": "code",
   "execution_count": 48,
   "metadata": {},
   "outputs": [],
   "source": [
    "temp.drop_duplicates(inplace=True)"
   ]
  },
  {
   "cell_type": "code",
   "execution_count": 49,
   "metadata": {},
   "outputs": [
    {
     "data": {
      "text/plain": [
       "(25052, 37)"
      ]
     },
     "execution_count": 49,
     "metadata": {},
     "output_type": "execute_result"
    }
   ],
   "source": [
    "temp.shape"
   ]
  },
  {
   "cell_type": "markdown",
   "metadata": {},
   "source": [
    "And fill missing area values with zero"
   ]
  },
  {
   "cell_type": "code",
   "execution_count": 50,
   "metadata": {},
   "outputs": [],
   "source": [
    "temp.fillna({'otherarea':0,'factryarea':0,'strgearea':0,'garagearea':0,\n",
    "             'retailarea':0,'officearea':0,'resarea':0,'comarea':0},\n",
    "            inplace=True)"
   ]
  },
  {
   "cell_type": "code",
   "execution_count": 51,
   "metadata": {},
   "outputs": [],
   "source": [
    "temp.dropna(inplace=True)"
   ]
  },
  {
   "cell_type": "code",
   "execution_count": 52,
   "metadata": {},
   "outputs": [
    {
     "data": {
      "text/plain": [
       "(22027, 37)"
      ]
     },
     "execution_count": 52,
     "metadata": {},
     "output_type": "execute_result"
    }
   ],
   "source": [
    "temp.shape"
   ]
  },
  {
   "cell_type": "markdown",
   "metadata": {},
   "source": [
    "### Scope of the model\n",
    "\n",
    "The building energy dataset includes energy consumnption metrics for various types of buildings from factories to offices, and for all boroughs across the city. This poses several challenges for predictive modelling – for instance, energy consumption patterns are obviously vastly different between offices and single family homes, and between tall glass clad skyscrapers in FiDi and 3-storey wood frame homes in Williamsburg. Although one could build a single model to capture patterns across building types and boroughs, it would be beyond the scope of this tutorial to try to model such complexity. Therefore, below we limit the scope of the model to only include office buildings within Manhattan."
   ]
  },
  {
   "cell_type": "code",
   "execution_count": 53,
   "metadata": {},
   "outputs": [],
   "source": [
    "temp = temp[(temp['landuse'].isin(['05'])) & (temp['borough'] == 'MN')]"
   ]
  },
  {
   "cell_type": "markdown",
   "metadata": {},
   "source": [
    "### Feature Engineering\n",
    "\n",
    "[Feature Engineering](https://en.wikipedia.org/wiki/Feature_engineering) is perhaps the most important aspect of machine learning and predictive modelling. It involves using expertise within a specific field to extract metrics from raw data. These metrics are then used to train an ML model. Below we create a number of features / metrics from the raw Pluto and building footprint dataset to feed our model. The raw data has polygons for raw outlines of buildings, heights of roofs, and the years buildings were built. ML models require features to be of numeric data types, so feeding the model raw polygon shapes or the year built (remember year built would be considered a categorical variable) is not ideal (for this specific case). *Note: some of the raw features within both datasets can be used directly (e.g. building area, building height, etc)*. \n",
    "\n",
    "The features we create from the raw data are:\n",
    "- **Year Type:** this feature categorizes the years into 5 distinct time periods (pre-1930, 1930-50, 1950-70, 1930-50, post-1990). We then encode these categories into numeric form using the Sci-kit learn library\n",
    "- **Standalone:** this feature is a binary value indicating whether the building is adjacent to any other structure. Here we use the Shapely Python library to do simple geometry analysis to determine whether a building is standalone or not\n",
    "- **Years since:** this feature is an integer specifiying the number of years that have passed since the building was built\n",
    "- **FAR:** this is the ratio between building area over building lot area\n",
    "- **Volume:** as the name suggests this is building area x height\n",
    "- **Residential %:**: this is the percentage of residential area in the building\n",
    "- **Office %:**: this is the percentage of office area in the building\n",
    "- **Retail %:**: this is the percentage of retail area in the building\n",
    "- **Factory %:**: this is the percentage of factory area in the building"
   ]
  },
  {
   "cell_type": "code",
   "execution_count": 54,
   "metadata": {},
   "outputs": [],
   "source": [
    "temp['shape_area'] = temp['shape_area'].astype(float)\n",
    "temp['heightroof'] = temp['heightroof'].astype(float)\n",
    "temp['shape_len'] = temp['shape_len'].astype(float)\n",
    "temp['groundelev'] = temp['groundelev'].astype(float)"
   ]
  },
  {
   "cell_type": "code",
   "execution_count": 55,
   "metadata": {},
   "outputs": [],
   "source": [
    "temp['volume'] = temp['shape_area'] * temp['heightroof']\n",
    "temp['surface_area'] = temp['shape_len'] * temp['heightroof']\n",
    "temp['far'] = temp['bldgarea'] / temp['lotarea']\n",
    "temp['respct'] = temp['resarea'] / temp['bldgarea']\n",
    "temp['offpct'] = temp['officearea'] / temp['bldgarea']\n",
    "temp['retpct'] = temp['retailarea'] / temp['bldgarea']\n",
    "temp['facpct'] = temp['factryarea'] / temp['bldgarea']\n",
    "temp['strpct'] = temp['strgearea'] / temp['bldgarea']"
   ]
  },
  {
   "cell_type": "code",
   "execution_count": 56,
   "metadata": {},
   "outputs": [],
   "source": [
    "temp['yeartype'] = None\n",
    "temp['yeartype'].loc[temp['yearbuilt'] < 1930] = 'pre-1930'\n",
    "temp['yeartype'].loc[(temp['yearbuilt'] >= 1930) & (temp['yearbuilt'] < 1950)] = '1930-50'\n",
    "temp['yeartype'].loc[(temp['yearbuilt'] >= 1950) & (temp['yearbuilt'] < 1970)] = '1950-70'\n",
    "temp['yeartype'].loc[(temp['yearbuilt'] >= 1970) & (temp['yearbuilt'] < 1990)] = '1930-50'\n",
    "temp['yeartype'].loc[(temp['yearbuilt'] >= 1990)] = 'post-1990'"
   ]
  },
  {
   "cell_type": "code",
   "execution_count": 57,
   "metadata": {},
   "outputs": [],
   "source": [
    "temp['years_since'] = 2020 - temp['yearbuilt']"
   ]
  },
  {
   "cell_type": "code",
   "execution_count": 58,
   "metadata": {},
   "outputs": [],
   "source": [
    "temp['refurb1'] = temp['yearalter1'].astype(bool).astype(int)\n",
    "temp['refurb2'] = temp['yearalter2'].astype(bool).astype(int)"
   ]
  },
  {
   "cell_type": "code",
   "execution_count": 59,
   "metadata": {},
   "outputs": [],
   "source": [
    "le = preprocessing.LabelEncoder()"
   ]
  },
  {
   "cell_type": "code",
   "execution_count": 60,
   "metadata": {},
   "outputs": [],
   "source": [
    "temp['yrtype'] = le.fit_transform(temp['yeartype'])"
   ]
  },
  {
   "cell_type": "code",
   "execution_count": 38,
   "metadata": {},
   "outputs": [],
   "source": [
    "def standalone_check(x):\n",
    "    temp = bldgs.loc[bldgs['geometry'].touches(x)]\n",
    "    check = temp.shape[0] == 0\n",
    "    return check"
   ]
  },
  {
   "cell_type": "code",
   "execution_count": 39,
   "metadata": {},
   "outputs": [],
   "source": [
    "temp['standalone'] = temp['geometry'].apply(lambda x: standalone_check(x))"
   ]
  },
  {
   "cell_type": "code",
   "execution_count": 61,
   "metadata": {},
   "outputs": [],
   "source": [
    "temp.drop_duplicates(subset='bin', inplace=True)"
   ]
  },
  {
   "cell_type": "code",
   "execution_count": 62,
   "metadata": {},
   "outputs": [],
   "source": [
    "temp.dropna(inplace=True)"
   ]
  },
  {
   "cell_type": "code",
   "execution_count": 63,
   "metadata": {},
   "outputs": [
    {
     "data": {
      "text/plain": [
       "(1574, 50)"
      ]
     },
     "execution_count": 63,
     "metadata": {},
     "output_type": "execute_result"
    }
   ],
   "source": [
    "temp.shape"
   ]
  },
  {
   "cell_type": "markdown",
   "metadata": {},
   "source": [
    "### Feature Selection\n",
    "\n",
    "[Feature Selection](https://en.wikipedia.org/wiki/Feature_selection) is another important step in machine learning and involves choosing relevant features to feed an ML model. Why do feature selection, why not feed as many features into a model as possible? There are a number of reasons not to do this, and researchers have devoted careers to answering the question. One major reason is the possiblity of models [overfitting](https://en.wikipedia.org/wiki/Overfitting) when large amounts of features are fed into them. A simple rule of thumb is that one should not feed more features than there are rows of data. For our example there around 1500 rows of data, so the number of features should be much less than this number. Another reason, to do feature selection is to simplify the modelling process and make results easier to interpret.\n",
    "\n",
    "In the below section we look at the linear correlation between building features and energy consumption in order to rank features according to their correlation coefficient. We will then use that to prioritize what features to feed the model."
   ]
  },
  {
   "cell_type": "code",
   "execution_count": 64,
   "metadata": {},
   "outputs": [],
   "source": [
    "corrs = temp.drop(['bbl', 'bin', 'yeartype', 'geometry'], axis=1).apply(lambda x: pearsonr(x, temp['total_ghg_emissions_metric']))\n",
    "corrs = corrs.reset_index()\n",
    "corrs[['r', 'p']] = pd.DataFrame(corrs[0].tolist(), \n",
    "                                 index=corrs.index)\n",
    "corrs.drop([0], axis=1, inplace=True)"
   ]
  },
  {
   "cell_type": "code",
   "execution_count": 65,
   "metadata": {},
   "outputs": [
    {
     "data": {
      "text/html": [
       "<div>\n",
       "<style scoped>\n",
       "    .dataframe tbody tr th:only-of-type {\n",
       "        vertical-align: middle;\n",
       "    }\n",
       "\n",
       "    .dataframe tbody tr th {\n",
       "        vertical-align: top;\n",
       "    }\n",
       "\n",
       "    .dataframe thead th {\n",
       "        text-align: right;\n",
       "    }\n",
       "</style>\n",
       "<table border=\"1\" class=\"dataframe\">\n",
       "  <thead>\n",
       "    <tr style=\"text-align: right;\">\n",
       "      <th></th>\n",
       "      <th>index</th>\n",
       "      <th>r</th>\n",
       "      <th>p</th>\n",
       "    </tr>\n",
       "  </thead>\n",
       "  <tbody>\n",
       "    <tr>\n",
       "      <th>2</th>\n",
       "      <td>bldgarea</td>\n",
       "      <td>0.872568</td>\n",
       "      <td>0.000000e+00</td>\n",
       "    </tr>\n",
       "    <tr>\n",
       "      <th>34</th>\n",
       "      <td>volume</td>\n",
       "      <td>0.829964</td>\n",
       "      <td>0.000000e+00</td>\n",
       "    </tr>\n",
       "    <tr>\n",
       "      <th>4</th>\n",
       "      <td>comarea</td>\n",
       "      <td>0.817968</td>\n",
       "      <td>0.000000e+00</td>\n",
       "    </tr>\n",
       "    <tr>\n",
       "      <th>35</th>\n",
       "      <td>surface_area</td>\n",
       "      <td>0.812956</td>\n",
       "      <td>0.000000e+00</td>\n",
       "    </tr>\n",
       "    <tr>\n",
       "      <th>6</th>\n",
       "      <td>officearea</td>\n",
       "      <td>0.777516</td>\n",
       "      <td>5.535017e-319</td>\n",
       "    </tr>\n",
       "    <tr>\n",
       "      <th>30</th>\n",
       "      <td>shape_area</td>\n",
       "      <td>0.719602</td>\n",
       "      <td>2.777854e-251</td>\n",
       "    </tr>\n",
       "    <tr>\n",
       "      <th>33</th>\n",
       "      <td>shape_len</td>\n",
       "      <td>0.672157</td>\n",
       "      <td>1.928626e-207</td>\n",
       "    </tr>\n",
       "    <tr>\n",
       "      <th>1</th>\n",
       "      <td>lotarea</td>\n",
       "      <td>0.661680</td>\n",
       "      <td>7.658654e-199</td>\n",
       "    </tr>\n",
       "  </tbody>\n",
       "</table>\n",
       "</div>"
      ],
      "text/plain": [
       "           index         r              p\n",
       "2       bldgarea  0.872568   0.000000e+00\n",
       "34        volume  0.829964   0.000000e+00\n",
       "4        comarea  0.817968   0.000000e+00\n",
       "35  surface_area  0.812956   0.000000e+00\n",
       "6     officearea  0.777516  5.535017e-319\n",
       "30    shape_area  0.719602  2.777854e-251\n",
       "33     shape_len  0.672157  1.928626e-207\n",
       "1        lotarea  0.661680  7.658654e-199"
      ]
     },
     "execution_count": 65,
     "metadata": {},
     "output_type": "execute_result"
    }
   ],
   "source": [
    "corrs.loc[corrs['p'] < .01].sort_values(by='r', ascending=False)[2:10]"
   ]
  },
  {
   "cell_type": "markdown",
   "metadata": {},
   "source": [
    "<br> \n",
    "<br>\n",
    "\n",
    "The above list shows all features that have a significant (p < 0.01) linear correlation to green house gas emissions. From the above we can see that building area and volume have the highest linear correlation to green house gas emissions (from the features we have at hand). Not seen in the above list is the small, but significant, negative correlation between emissions and year built. In all, there are approximately 30 significantly correlated features. We can test varying configurations of these features to feed our model below."
   ]
  },
  {
   "cell_type": "code",
   "execution_count": 66,
   "metadata": {},
   "outputs": [],
   "source": [
    "temp1 = temp.drop(['electricity_use_grid_purchase', \n",
    "                   'natural_gas_use_kbtu', \n",
    "                   'direct_ghg_emissions_metric'], axis=1)"
   ]
  },
  {
   "cell_type": "code",
   "execution_count": 67,
   "metadata": {},
   "outputs": [],
   "source": [
    "temp1.drop_duplicates(subset='bin', inplace=True)"
   ]
  },
  {
   "cell_type": "code",
   "execution_count": 68,
   "metadata": {},
   "outputs": [],
   "source": [
    "temp1.index = temp1['bin']"
   ]
  },
  {
   "cell_type": "markdown",
   "metadata": {},
   "source": [
    "### Model training\n",
    "\n",
    "The next step now that we have an idea of what features may be the most relevant will be to train the model. For this demonstration we will use a fairly \"simple\" algorithm to build our regression model called, Lasso. [Lasso](https://en.wikipedia.org/wiki/Lasso_(statistics)) is a well loved algorithm as it does regularization out of the box – meaning it prevents overfitting from features by penalizing model coefficients. Choosing parameters of machine learning models can be a fairly tricky process involving a lot of trial and error. We use Scikit Learns **GrisearchCV** function to find the best model parameters automatically.\n",
    "\n",
    "The variable \"current_cols\" is simply the top N correlates to green house gas emissions. We select the top two to initially train the model (you might experiment with other configurations)."
   ]
  },
  {
   "cell_type": "code",
   "execution_count": 71,
   "metadata": {},
   "outputs": [],
   "source": [
    "target = 'total_ghg_emissions_metric'\n",
    "current_cols = corrs.reindex(corrs.r.abs().sort_values(ascending=False).index)[2:4].values[:,0].tolist()\n",
    "sig_df = temp1[current_cols + [target]]\n",
    "\n",
    "X = sig_df.drop([target], axis=1)\n",
    "y = sig_df[target]\n",
    "hyper_params = {'tol': np.linspace(1e-4, 0.1, 4), \n",
    "                'alpha': np.linspace(0.5,2.0, 4)}\n",
    "\n",
    "reg = GridSearchCV(Lasso(), hyper_params)"
   ]
  },
  {
   "cell_type": "markdown",
   "metadata": {},
   "source": [
    "### Model evaluation\n",
    "\n",
    "Evaluation is the final but also one of the most important parts of predictive modelling. It involves quantifying the quality of a predictive model to ensure the model is accurate and generalizable. To do this researchers usually split data into training, test, and validation sets, where a model is trained with one portion of the data, and tested with another portion of data that it has not seen, known as the test and or validation set. This ensures the model will perform well on new data that it has not seen in the future. There are a number of additional techniques for evaluation: scoring model predictions by looking at the differences between predicted and actual values (in the test set), plotting learning and validation curves, and [cross validation](https://en.wikipedia.org/wiki/Cross-validation_(statistics)). Many of these techniques are too vast to go over in this tutorial.\n",
    "\n",
    "Below we use SKlearns built in cross validation functionality, **KFold()**, to split our data into training and test sets to evaluate the model iteratively. We also use a number of scoring metrics to quanity the model quality, specifcally the root mean squared error (the differences between actual and predicted value) and R-squared (a measure of how much variation in emissions our model explains)."
   ]
  },
  {
   "cell_type": "code",
   "execution_count": 73,
   "metadata": {},
   "outputs": [
    {
     "data": {
      "text/plain": [
       "{'rmse': 1492.7929371836858,\n",
       " 'R-squared': 0.7545791727794043,\n",
       " 'avg abs difference': 496.5872308110585,\n",
       " 'best_params': {'alpha': 2.0, 'tol': 0.1},\n",
       " 'cols': ['bldgarea', 'volume']}"
      ]
     },
     "execution_count": 73,
     "metadata": {},
     "output_type": "execute_result"
    }
   ],
   "source": [
    "predictions = []\n",
    "true = []\n",
    "kf = KFold(n_splits=10)\n",
    "kf.get_n_splits(X)\n",
    "for train_index, test_index in kf.split(X):\n",
    "        X_train, X_test = X.iloc[train_index], X.iloc[test_index]\n",
    "        y_train, y_test = y.iloc[train_index], y.iloc[test_index]\n",
    "\n",
    "        reg.fit(X_train, y_train)\n",
    "        preds = reg.predict(X_test)\n",
    "        predictions.append(preds)\n",
    "        true.append(y_test)\n",
    "predictions = np.array([item for sublist in predictions for item in sublist])\n",
    "true = np.array([item for sublist in true for item in sublist])\n",
    "res = {'rmse': mean_squared_error(true, predictions, squared=False),\n",
    "       'R-squared': r2_score(true, predictions),\n",
    "       'avg abs difference': np.mean(abs(predictions - true)),\n",
    "       'best_params': reg.best_params_,\n",
    "       'cols': current_cols}\n",
    "res"
   ]
  },
  {
   "cell_type": "markdown",
   "metadata": {},
   "source": [
    "<br>\n",
    "<br>\n",
    "\n",
    "The above metrics suggest a reasonable model – it explains 75% of the variation in green house gas emissions and is typically off by 1500 metric tons. Below we attempt to improve the quality of the model by analyzing patterns in the model errors. More specifically we are interested in knowing more about where the model tends to do well and where it does not."
   ]
  },
  {
   "cell_type": "markdown",
   "metadata": {},
   "source": [
    "<br>\n",
    "<br>\n",
    "\n",
    "\n",
    "### Error analysis (optional)\n",
    "\n",
    "This final section analyzes the differences between the models predicted values to the actual emission values. This is known as error analysis and is an important part of regression. There are a number of assumptions that power regression modelling ([more here](https://en.wikipedia.org/wiki/Gauss%E2%80%93Markov_theorem)), one being that erros are uncorrelated and have equal variance. \n",
    "\n",
    "Below we plot the model errors against building area, if our model process is correct we would expect no clear patterns in the errors (equal variance)."
   ]
  },
  {
   "cell_type": "code",
   "execution_count": 552,
   "metadata": {},
   "outputs": [],
   "source": [
    "errors = temp1[temp1['total_ghg_emissions_metric'].isin(true)]\n",
    "errors['err'] = predictions - true\n",
    "errors['pred'] = predictions\n",
    "errors['tru'] = true\n",
    "errors['pred_trans'] = np.power(predictions, 2)"
   ]
  },
  {
   "cell_type": "code",
   "execution_count": 553,
   "metadata": {},
   "outputs": [
    {
     "data": {
      "text/plain": [
       "<matplotlib.collections.PathCollection at 0x1be01d070>"
      ]
     },
     "execution_count": 553,
     "metadata": {},
     "output_type": "execute_result"
    },
    {
     "data": {
      "image/png": "[encoded data removed]",
      "text/plain": [
       "<Figure size 432x288 with 1 Axes>"
      ]
     },
     "metadata": {
      "needs_background": "light"
     },
     "output_type": "display_data"
    }
   ],
   "source": [
    "plt.scatter(errors['bldgarea'], errors['err'])"
   ]
  },
  {
   "cell_type": "markdown",
   "metadata": {},
   "source": [
    "<br>\n",
    "<br>\n",
    "\n",
    "The above plot shows clear patterns in the errors – the errors increase as the building size increases. This is known in statistics as [Heteroscedasticity](https://en.wikipedia.org/wiki/Heteroscedasticity), where model errors increase with the size of the fitted variables, and is a common issue in regression modelling. There are a number of reasons why heteroscedasticity occurs: outliers in the data, nonlinearity in the target variable, skewed data, etc. To overcome it a researcher could explore any number of the aformentioned topics, which would be beyond the scope of this tutorial.\n",
    "\n",
    "Below we run the model training again, this time removing outliers and weighting the training data to mitigate the heteroscedasticity."
   ]
  },
  {
   "cell_type": "code",
   "execution_count": 79,
   "metadata": {},
   "outputs": [
    {
     "data": {
      "text/plain": [
       "{'rmse': 1062.9758002994474,\n",
       " 'R-squared': 0.8406577116287324,\n",
       " 'avg abs difference': 461.96919836640114,\n",
       " 'best_params': {'alpha': 2.0, 'tol': 0.13336666666666666},\n",
       " 'cols': ['bldgarea', 'volume']}"
      ]
     },
     "execution_count": 79,
     "metadata": {},
     "output_type": "execute_result"
    }
   ],
   "source": [
    "current_cols = corrs.reindex(corrs.r.abs().sort_values(ascending=False).index)[2:4].values[:,0].tolist()\n",
    "sig_df = temp1[current_cols + [target]]\n",
    "sig_df = sig_df[sig_df[target]<2.2e4]\n",
    "\n",
    "X = sig_df.drop([target], axis=1)\n",
    "y = sig_df[target]\n",
    "hyper_params = {'tol': np.linspace(1e-4, 0.2, 7), \n",
    "                'alpha': np.linspace(0.1,2.0, 10)}\n",
    "\n",
    "reg = GridSearchCV(Lasso(), hyper_params)\n",
    "\n",
    "predictions = []\n",
    "true = []\n",
    "kf = KFold(n_splits=10)\n",
    "kf.get_n_splits(X)\n",
    "for train_index, test_index in kf.split(X):\n",
    "        X_train, X_test = X.iloc[train_index], X.iloc[test_index]\n",
    "        y_train, y_test = y.iloc[train_index], y.iloc[test_index]\n",
    "\n",
    "        reg.fit(X_train, y_train, sample_weight=(1/X_train['bldgarea']))\n",
    "        preds = reg.predict(X_test)\n",
    "        predictions.append(preds)\n",
    "        true.append(y_test)\n",
    "predictions = np.array([item for sublist in predictions for item in sublist])\n",
    "true = np.array([item for sublist in true for item in sublist])\n",
    "res = {'rmse': mean_squared_error(true, predictions, squared=False),\n",
    "       'R-squared': r2_score(true, predictions),\n",
    "       'avg abs difference': np.mean(abs(predictions - true)),\n",
    "       'best_params': reg.best_params_,\n",
    "       'cols': current_cols}\n",
    "res"
   ]
  },
  {
   "cell_type": "markdown",
   "metadata": {},
   "source": [
    "<br>\n",
    "\n",
    "### Final Results\n",
    "\n",
    "We can see that removing the outliers (2 data points), adjusting the hyperparameters, and adding sample weights improved the model significantly. We see a ~30% increase in accuracy, and an improvement in the amount of variation the model explains. Considering this model is trained with only two variables, it appears to be a reasonable predictor of building emissions. We could potentially increase the model accuracy with additional features like building facade material or information about the building's systems."
   ]
  }
 ],
 "metadata": {
  "kernelspec": {
   "display_name": "Python 3",
   "language": "python",
   "name": "python3"
  },
  "language_info": {
   "codemirror_mode": {
    "name": "ipython",
    "version": 3
   },
   "file_extension": ".py",
   "mimetype": "text/x-python",
   "name": "python",
   "nbconvert_exporter": "python",
   "pygments_lexer": "ipython3",
   "version": "3.8.5"
  }
 },
 "nbformat": 4,
 "nbformat_minor": 4
}
